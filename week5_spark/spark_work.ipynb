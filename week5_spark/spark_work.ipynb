{
 "cells": [
  {
   "cell_type": "code",
   "execution_count": 1,
   "id": "83600082",
   "metadata": {},
   "outputs": [],
   "source": [
    "import pyspark\n",
    "from pyspark.sql import SparkSession\n",
    "from pyspark.sql import types\n",
    "import pyspark.sql.functions as F"
   ]
  },
  {
   "cell_type": "code",
   "execution_count": 2,
   "id": "b354287f",
   "metadata": {},
   "outputs": [
    {
     "name": "stderr",
     "output_type": "stream",
     "text": [
      "Setting default log level to \"WARN\".\n",
      "To adjust logging level use sc.setLogLevel(newLevel). For SparkR, use setLogLevel(newLevel).\n"
     ]
    },
    {
     "name": "stdout",
     "output_type": "stream",
     "text": [
      "23/02/28 10:53:45 WARN NativeCodeLoader: Unable to load native-hadoop library for your platform... using builtin-java classes where applicable\n"
     ]
    }
   ],
   "source": [
    "spark = SparkSession.builder \\\n",
    "    .master(\"local[*]\") \\\n",
    "    .appName('test') \\\n",
    "    .getOrCreate()"
   ]
  },
  {
   "cell_type": "markdown",
   "id": "50adfac7",
   "metadata": {},
   "source": [
    "# Taxi zones"
   ]
  },
  {
   "cell_type": "code",
   "execution_count": 3,
   "id": "6c5789e3",
   "metadata": {},
   "outputs": [],
   "source": [
    "df = (\n",
    "    spark.\n",
    "    read.\n",
    "    option(\"header\",\"true\").\n",
    "    csv(\"data/taxi_zone_lookup.csv\")    \n",
    ")"
   ]
  },
  {
   "cell_type": "code",
   "execution_count": 4,
   "id": "c78a3740",
   "metadata": {},
   "outputs": [
    {
     "name": "stdout",
     "output_type": "stream",
     "text": [
      "+----------+-------------+--------------------+------------+\n",
      "|LocationID|      Borough|                Zone|service_zone|\n",
      "+----------+-------------+--------------------+------------+\n",
      "|         1|          EWR|      Newark Airport|         EWR|\n",
      "|         2|       Queens|         Jamaica Bay|   Boro Zone|\n",
      "|         3|        Bronx|Allerton/Pelham G...|   Boro Zone|\n",
      "|         4|    Manhattan|       Alphabet City| Yellow Zone|\n",
      "|         5|Staten Island|       Arden Heights|   Boro Zone|\n",
      "|         6|Staten Island|Arrochar/Fort Wad...|   Boro Zone|\n",
      "|         7|       Queens|             Astoria|   Boro Zone|\n",
      "|         8|       Queens|        Astoria Park|   Boro Zone|\n",
      "|         9|       Queens|          Auburndale|   Boro Zone|\n",
      "|        10|       Queens|        Baisley Park|   Boro Zone|\n",
      "|        11|     Brooklyn|          Bath Beach|   Boro Zone|\n",
      "|        12|    Manhattan|        Battery Park| Yellow Zone|\n",
      "|        13|    Manhattan|   Battery Park City| Yellow Zone|\n",
      "|        14|     Brooklyn|           Bay Ridge|   Boro Zone|\n",
      "|        15|       Queens|Bay Terrace/Fort ...|   Boro Zone|\n",
      "|        16|       Queens|             Bayside|   Boro Zone|\n",
      "|        17|     Brooklyn|             Bedford|   Boro Zone|\n",
      "|        18|        Bronx|        Bedford Park|   Boro Zone|\n",
      "|        19|       Queens|           Bellerose|   Boro Zone|\n",
      "|        20|        Bronx|             Belmont|   Boro Zone|\n",
      "+----------+-------------+--------------------+------------+\n",
      "only showing top 20 rows\n",
      "\n"
     ]
    }
   ],
   "source": [
    "df.show()"
   ]
  },
  {
   "cell_type": "code",
   "execution_count": 11,
   "id": "fe8147e9",
   "metadata": {},
   "outputs": [
    {
     "name": "stderr",
     "output_type": "stream",
     "text": [
      "\r",
      "[Stage 3:>                                                          (0 + 1) / 1]\r",
      "\r",
      "                                                                                \r"
     ]
    }
   ],
   "source": [
    "df.write.parquet(\"data/taxi_zone\")"
   ]
  },
  {
   "cell_type": "markdown",
   "id": "55a32b6f",
   "metadata": {},
   "source": [
    "# Question 1"
   ]
  },
  {
   "cell_type": "code",
   "execution_count": 13,
   "id": "7e39ff1f",
   "metadata": {},
   "outputs": [
    {
     "data": {
      "text/plain": [
       "'3.3.2'"
      ]
     },
     "execution_count": 13,
     "metadata": {},
     "output_type": "execute_result"
    }
   ],
   "source": [
    "spark.version"
   ]
  },
  {
   "cell_type": "markdown",
   "id": "b7e4705f",
   "metadata": {},
   "source": [
    "# Question 2"
   ]
  },
  {
   "cell_type": "markdown",
   "id": "7c46f878",
   "metadata": {},
   "source": [
    "**HVFHW June 2021**\n",
    "\n",
    "Read it with Spark using the same schema as we did in the lessons.</br> \n",
    "We will use this dataset for all the remaining questions.</br>\n",
    "Repartition it to 12 partitions and save it to parquet.</br>\n",
    "What is the average size of the Parquet (ending with .parquet extension) Files that were created (in MB)? Select the answer which most closely matches.</br>\n",
    "\n",
    "\n",
    "- 2MB\n",
    "- [x] 24MB\n",
    "- 100MB\n",
    "- 250MB\n",
    "</br></br>"
   ]
  },
  {
   "cell_type": "code",
   "execution_count": 5,
   "id": "60b7b884",
   "metadata": {},
   "outputs": [],
   "source": [
    "hsv_schema = types.StructType([\n",
    "    types.StructField(\"dispatching_base_num\", types.StringType(), True),\n",
    "    types.StructField(\"pickup_datetime\", types.TimestampType(), True),\n",
    "    types.StructField(\"dropOff_datetime\", types.TimestampType(), True),\n",
    "    types.StructField(\"PUlocationID\", types.IntegerType(), True),\n",
    "    types.StructField(\"DOlocationID\", types.IntegerType(), True),\n",
    "    types.StructField(\"SR_Flag\", types.FloatType(), True),\n",
    "    types.StructField(\"Affiliated_base_number\", types.StringType(), True)\n",
    "])"
   ]
  },
  {
   "cell_type": "code",
   "execution_count": 6,
   "id": "9485c798",
   "metadata": {},
   "outputs": [],
   "source": [
    "input_path = \"data/fhvhv_tripdata_2021-06.csv.gz\""
   ]
  },
  {
   "cell_type": "code",
   "execution_count": 7,
   "id": "b1faae7c",
   "metadata": {},
   "outputs": [],
   "source": [
    "df_hsv = spark.read \\\n",
    "    .option(\"header\", \"true\") \\\n",
    "    .schema(hsv_schema) \\\n",
    "    .csv(input_path)"
   ]
  },
  {
   "cell_type": "code",
   "execution_count": 8,
   "id": "e98fa94e",
   "metadata": {},
   "outputs": [
    {
     "name": "stdout",
     "output_type": "stream",
     "text": [
      "-RECORD 0-------------------------------------\n",
      " dispatching_base_num   | B02764              \n",
      " pickup_datetime        | 2021-06-01 00:02:41 \n",
      " dropOff_datetime       | 2021-06-01 00:07:46 \n",
      " PUlocationID           | 174                 \n",
      " DOlocationID           | 18                  \n",
      " SR_Flag                | null                \n",
      " Affiliated_base_number | B02764              \n",
      "-RECORD 1-------------------------------------\n",
      " dispatching_base_num   | B02764              \n",
      " pickup_datetime        | 2021-06-01 00:16:16 \n",
      " dropOff_datetime       | 2021-06-01 00:21:14 \n",
      " PUlocationID           | 32                  \n",
      " DOlocationID           | 254                 \n",
      " SR_Flag                | null                \n",
      " Affiliated_base_number | B02764              \n",
      "only showing top 2 rows\n",
      "\n"
     ]
    }
   ],
   "source": [
    "df_hsv.show(2, vertical=True)"
   ]
  },
  {
   "cell_type": "code",
   "execution_count": 18,
   "id": "9b242432",
   "metadata": {},
   "outputs": [
    {
     "name": "stderr",
     "output_type": "stream",
     "text": [
      "[Stage 7:>                                                        (0 + 12) / 12]\r"
     ]
    },
    {
     "name": "stdout",
     "output_type": "stream",
     "text": [
      "23/02/27 14:29:39 WARN MemoryManager: Total allocation exceeds 95.00% (1,020,054,720 bytes) of heap memory\n",
      "Scaling row group sizes to 95.00% for 8 writers\n",
      "23/02/27 14:29:39 WARN MemoryManager: Total allocation exceeds 95.00% (1,020,054,720 bytes) of heap memory\n",
      "Scaling row group sizes to 84.44% for 9 writers\n",
      "23/02/27 14:29:39 WARN MemoryManager: Total allocation exceeds 95.00% (1,020,054,720 bytes) of heap memory\n",
      "Scaling row group sizes to 76.00% for 10 writers\n",
      "23/02/27 14:29:39 WARN MemoryManager: Total allocation exceeds 95.00% (1,020,054,720 bytes) of heap memory\n",
      "Scaling row group sizes to 69.09% for 11 writers\n",
      "23/02/27 14:29:39 WARN MemoryManager: Total allocation exceeds 95.00% (1,020,054,720 bytes) of heap memory\n",
      "Scaling row group sizes to 63.33% for 12 writers\n",
      "23/02/27 14:29:43 WARN MemoryManager: Total allocation exceeds 95.00% (1,020,054,720 bytes) of heap memory\n",
      "Scaling row group sizes to 69.09% for 11 writers\n",
      "23/02/27 14:29:43 WARN MemoryManager: Total allocation exceeds 95.00% (1,020,054,720 bytes) of heap memory\n",
      "Scaling row group sizes to 76.00% for 10 writers\n",
      "23/02/27 14:29:43 WARN MemoryManager: Total allocation exceeds 95.00% (1,020,054,720 bytes) of heap memory\n",
      "Scaling row group sizes to 84.44% for 9 writers\n",
      "23/02/27 14:29:43 WARN MemoryManager: Total allocation exceeds 95.00% (1,020,054,720 bytes) of heap memory\n",
      "Scaling row group sizes to 95.00% for 8 writers\n"
     ]
    },
    {
     "name": "stderr",
     "output_type": "stream",
     "text": [
      "\r",
      "[Stage 7:===========================================>              (9 + 3) / 12]\r",
      "\r",
      "                                                                                \r"
     ]
    }
   ],
   "source": [
    "df_hsv.repartition(12).write.parquet(\"data/hsv_2\")"
   ]
  },
  {
   "cell_type": "markdown",
   "id": "d09ace87",
   "metadata": {},
   "source": [
    "Size of each partition equals 24 Mb"
   ]
  },
  {
   "cell_type": "markdown",
   "id": "5af1b9e5",
   "metadata": {},
   "source": [
    "### Question 3: \n",
    "\n",
    "**Count records**  \n",
    "\n",
    "How many taxi trips were there on June 15?</br></br>\n",
    "Consider only trips that started on June 15.</br>\n",
    "\n",
    "- 308,164\n",
    "- 12,856\n",
    "- [x] 452,470\n",
    "- 50,982\n",
    "</br></br>"
   ]
  },
  {
   "cell_type": "code",
   "execution_count": 22,
   "id": "a2658a62",
   "metadata": {},
   "outputs": [
    {
     "name": "stderr",
     "output_type": "stream",
     "text": [
      "                                                                                \r"
     ]
    },
    {
     "data": {
      "text/plain": [
       "452470"
      ]
     },
     "execution_count": 22,
     "metadata": {},
     "output_type": "execute_result"
    }
   ],
   "source": [
    "df_hsv.filter(\"date_trunc('day', pickup_datetime) = '2021-06-15'\").count()"
   ]
  },
  {
   "cell_type": "markdown",
   "id": "0981ef6f",
   "metadata": {},
   "source": [
    "\n",
    "### Question 4: \n",
    "\n",
    "**Longest trip for each day**  \n",
    "\n",
    "Now calculate the duration for each trip.</br>\n",
    "How long was the longest trip in Hours?</br>\n",
    "\n",
    "- [x] 66.87 Hours\n",
    "- 243.44 Hours\n",
    "- 7.68 Hours\n",
    "- 3.32 Hours\n",
    "</br></br>"
   ]
  },
  {
   "cell_type": "code",
   "execution_count": 27,
   "id": "b4efdf30",
   "metadata": {},
   "outputs": [
    {
     "name": "stderr",
     "output_type": "stream",
     "text": [
      "                                                                                \r"
     ]
    },
    {
     "data": {
      "text/plain": [
       "Row(dispatching_base_num='B02872', pickup_datetime=datetime.datetime(2021, 6, 25, 13, 55, 41), dropOff_datetime=datetime.datetime(2021, 6, 28, 8, 48, 25), PUlocationID=98, DOlocationID=265, SR_Flag=None, Affiliated_base_number='B02872', ride_in_hours=66.8788888888889)"
      ]
     },
     "execution_count": 27,
     "metadata": {},
     "output_type": "execute_result"
    }
   ],
   "source": [
    "df_hsv\\\n",
    "    .withColumn('ride_in_hours', (F.unix_timestamp(df_hsv['dropOff_datetime']) - F.unix_timestamp(df_hsv['pickup_datetime']))/3600)\\\n",
    "    .orderBy(F.col('ride_in_hours').desc())\\\n",
    "    .head()\n",
    "\n",
    "    "
   ]
  },
  {
   "cell_type": "markdown",
   "id": "483207ac",
   "metadata": {},
   "source": [
    "### Question 5: \n",
    "\n",
    "**User Interface**\n",
    "\n",
    " Spark’s User Interface which shows application's dashboard runs on which local port?</br>\n",
    "\n",
    "- 80\n",
    "- 443\n",
    "- [x] 4040\n",
    "- 8080\n",
    "</br></br>"
   ]
  },
  {
   "cell_type": "markdown",
   "id": "344dffe6",
   "metadata": {},
   "source": [
    "### Question 6: \n",
    "\n",
    "**Most frequent pickup location zone**\n",
    "\n",
    "Load the zone lookup data into a temp view in Spark</br>\n",
    "[Zone Data](https://github.com/DataTalksClub/nyc-tlc-data/releases/download/misc/taxi_zone_lookup.csv)</br>\n",
    "\n",
    "Using the zone lookup data and the fhvhv June 2021 data, what is the name of the most frequent pickup location zone?</br>\n",
    "\n",
    "- East Chelsea\n",
    "- Astoria\n",
    "- Union Sq\n",
    "- [x] Crown Heights North\n",
    "</br></br>"
   ]
  },
  {
   "cell_type": "code",
   "execution_count": 14,
   "id": "f3e530a9",
   "metadata": {},
   "outputs": [],
   "source": [
    "df_hsv_pu_locations = df_hsv.groupby('PUlocationID').count()"
   ]
  },
  {
   "cell_type": "code",
   "execution_count": 18,
   "id": "3c97b870",
   "metadata": {},
   "outputs": [
    {
     "name": "stderr",
     "output_type": "stream",
     "text": [
      "\r",
      "[Stage 13:>                                                         (0 + 1) / 1]\r"
     ]
    },
    {
     "name": "stdout",
     "output_type": "stream",
     "text": [
      "+------------+------+----------+---------+--------------------+------------+\n",
      "|PUlocationID| count|LocationID|  Borough|                Zone|service_zone|\n",
      "+------------+------+----------+---------+--------------------+------------+\n",
      "|          61|231279|        61| Brooklyn| Crown Heights North|   Boro Zone|\n",
      "|          79|221244|        79|Manhattan|        East Village| Yellow Zone|\n",
      "|         132|188867|       132|   Queens|         JFK Airport|    Airports|\n",
      "|          37|187929|        37| Brooklyn|      Bushwick South|   Boro Zone|\n",
      "|          76|186780|        76| Brooklyn|       East New York|   Boro Zone|\n",
      "|         231|164344|       231|Manhattan|TriBeCa/Civic Center| Yellow Zone|\n",
      "|         138|161596|       138|   Queens|   LaGuardia Airport|    Airports|\n",
      "|         234|158937|       234|Manhattan|            Union Sq| Yellow Zone|\n",
      "|         249|154698|       249|Manhattan|        West Village| Yellow Zone|\n",
      "|           7|152493|         7|   Queens|             Astoria|   Boro Zone|\n",
      "|         148|151020|       148|Manhattan|     Lower East Side| Yellow Zone|\n",
      "|          68|147673|        68|Manhattan|        East Chelsea| Yellow Zone|\n",
      "|          42|146402|        42|Manhattan|Central Harlem North|   Boro Zone|\n",
      "|         255|143683|       255| Brooklyn|Williamsburg (Nor...|   Boro Zone|\n",
      "|         181|143594|       181| Brooklyn|          Park Slope|   Boro Zone|\n",
      "|         225|141427|       225| Brooklyn|  Stuyvesant Heights|   Boro Zone|\n",
      "|          48|139611|        48|Manhattan|        Clinton East| Yellow Zone|\n",
      "|         246|139431|       246|Manhattan|West Chelsea/Huds...| Yellow Zone|\n",
      "|          17|138428|        17| Brooklyn|             Bedford|   Boro Zone|\n",
      "|         170|137879|       170|Manhattan|         Murray Hill| Yellow Zone|\n",
      "+------------+------+----------+---------+--------------------+------------+\n",
      "only showing top 20 rows\n",
      "\n"
     ]
    },
    {
     "name": "stderr",
     "output_type": "stream",
     "text": [
      "\r",
      "                                                                                \r"
     ]
    }
   ],
   "source": [
    "df_hsv_pu_locations.join(df, df_hsv_pu_locations['PUlocationID'] == df['LocationID'], \"inner\").orderBy(F.col(\"count\").desc()).show()"
   ]
  },
  {
   "cell_type": "code",
   "execution_count": null,
   "id": "f2bf6bd9",
   "metadata": {},
   "outputs": [],
   "source": []
  }
 ],
 "metadata": {
  "kernelspec": {
   "display_name": "Python 3 (ipykernel)",
   "language": "python",
   "name": "python3"
  },
  "language_info": {
   "codemirror_mode": {
    "name": "ipython",
    "version": 3
   },
   "file_extension": ".py",
   "mimetype": "text/x-python",
   "name": "python",
   "nbconvert_exporter": "python",
   "pygments_lexer": "ipython3",
   "version": "3.9.13"
  }
 },
 "nbformat": 4,
 "nbformat_minor": 5
}
